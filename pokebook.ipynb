{
 "cells": [
  {
   "cell_type": "markdown",
   "metadata": {},
   "source": [
    "# Analisi Pokédex\n",
    "\n",
    "# 1. Contesto\n",
    "*Pokémon* (abbreviativo di **Pocke**t **Mon**sters) è un brand giapponese pluridecennale partorito nel 1996 dalla mente di Satoshi Taijiri. Inizialmente, fu concepito a partire dalla coppia di videogiochi sviluppati da *Game Freak* per la console Nintendo *Game Boy*, *Pokémon Versione Rossa* e *Pokémon Versione Blu* (*Versione Verde*, in Giappone), ma il successo fu tale da far scaturire una produzione di massa in tanti altri contesti (cartoni, film, carte collezionabili, gadget, peluche, alcuni anche in associazione con altre società famose) così proficua da renderlo tutt'ora il franchising più redditizio di sempre, a ventisei anni, recentemente compiuti, dalla sua nascita.\n",
    "\n",
    "La sempre più crescente richiesta del media nel corso degli anni, ha portato Nintendo, e *The Pokémon Company* in primis (la società che detiene un terzo dei diritti intellettuali del franchise, insieme con Nintendo stessa e Game Freak) a ideare sempre più creature tascabili: se inizialmente \"solo\" 151 approdarono nella prima coppia di videogiochi, al momento ne esistono ben 908 (non considerando tutti i bozzetti scartati, alcuni dei quali, però, riutilizzati). Inoltre, molti di questi mostriciattoli possiedono forme alternative, che ne mutano design e caratteristiche (da non confondere con le evoluzioni, che invece ne simboleggiano una crescita, da \"cucciolo\" fino all'\"età adulta\"). Di significante interesse sono, per esempio, le forme regionali, ossia forme alternative che fanno variare le caratteristiche del Pokémon in questione, in base al suo ambientamento nell'habitat di una specifica regione.\\\n",
    "In base al periodo di rilascio, e in base alle coppie di videogiochi che li ospitano, i Pokémon sono inoltre suddivisi in \"generazioni\": ogni set generazionale è delimitato da tre starter (e le loro forme evolute), ossia i Pokémon con i quali si inizia tipicamente la partita, e un numero variabile di \"leggendari\", ossia la specie più rara e potente presente nella fauna del rispettivo gioco; al momento, si è giunti all'ottava generazione e si è in attesa della nona, in concomitanza con l'uscita dei titoli *Pokémon Scarlatto* e *Pokémon Violetto*, verso la fine del 2022.\n",
    "\n",
    "La serie di videogiochi si basa sul concetto di collezionare tutti i mostriciattoli tascabili – da qui lo slogan ufficiale del brand *Gotta catch 'em all!* (*Acchiappali tutti!*, in italiano) – allevarli, e diventare il Campione della Lega Pokémon della regione d'ambientazione del rispettivo videogioco, onorificienza data a quell'allevatore di Pokémon – o Allenatore, utilizzando il gergo del videogioco – che insieme alla squadra è riuscito a superare ostacoli sempre più difficili e allenatori via via sempre più forti, secondo un'idea ispirata dall'ultimo film con protagonista Bruce Lee: \"*L'ultimo combattimento di Chen*\".\n",
    "\n",
    "Ogni Pokémon è caratterizzato da:\n",
    "- uno o due tipi: evidenziano l'affinità del singolo Pokémon con un certo \"elemento\" naturale; in particolare, i 18 tipi possibili sono: Normale, Erba, Fuoco, Acqua, Elettro, Volante, Coleottero, Roccia, Terra, Acciaio, Ghiaccio, Lotta, Psico, Buio, Veleno, Spettro, Drago, Folletto;\n",
    "- natura: evidenziano il carattere del Pokémon, garantendo bonus e malus sulle sue statistiche;\n",
    "- quattro possibili attacchi suddivisi nei tipi precedentemente citati: l'affinità tra tipo dell'attacco e uno dei tipi del Pokémon garantisce un bonus nell'output di danno noto come *same-type attack bonus* (**STAB**);\n",
    "- abilità: effetto latente secondario del Pokémon, indipendente dagli attacchi.\n",
    "- sesso: maschile, femminile o asessuato; ogni Pokémon ha una certa probabilità di ritrovamento in base al sesso, se non asessuato.\n",
    "- cinque statistiche: punti vita – o *Health Points* (**HP**) –, attacco, difesa, attacco speciale, difesa speciale, velocità.\n",
    "- tasso di cattura: ogni Pokémon ha una certa probabilità di essere catturato, dipendente dalla sua rarità, dai suoi punti vita correnti (rispetto al totale) e da una serie di altre variabili che verranno investigate nel corso dell'analisi.\n",
    "\n",
    "Inoltre, durante ogni battaglia, un Pokémon guadagna dei punti esperienza che, facendolo salire di livello (in un intervallo che va da 1 a 100), permettono l'incremento delle sue statistiche, l'apprendimento di nuovi attacchi e l'evoluzione in una nuova specie. \n",
    "\n",
    "In ogni videogioco, l'insieme di tutti i Pokémon (comprendente descrizioni sul loro comportamento e caratteristiche generali) è raccolto in un dispositivo chiamato Pokédex (abbreviativo di **Poké**mon ed In**dex**).\\\n",
    "Quella che si vuole fornire è una sorta di alternativa al Pokédex."
   ]
  },
  {
   "cell_type": "markdown",
   "metadata": {},
   "source": [
    "# 2. Richieste ed obiettivi (WIP)\n",
    "1. Ricercare il tipo più comune.\n",
    "2. Studiare le statistiche d'attacco dei Pokémon in base al loro tipo e al sesso.\n",
    "3. Studiare le probabilità di ritrovamento di un Pokémon in un determinato sesso in base alla sua specie.\n",
    "4. Confrontare le compatibilità e le incompatibilità tra i tipi, gli effetti delle mosse e le abilità.\n",
    "5. Applicare la regressione sulle statistiche di attacco.\n",
    "6. Verificare l'efficacia della classificazione. \n"
   ]
  },
  {
   "cell_type": "markdown",
   "metadata": {},
   "source": [
    "# 3. Raccolta dati\n",
    "Per effettuare quest'analisi è stato utilizzato il dataset \"Complete Pokemon Data Set\", mantenuto e aggiornato da Kyle Kohnen fino al 8/12/2021, raggiungibile al seguente link: https://www.kaggle.com/kylekohnen/complete-pokemon-data-set/version/5.\n",
    "\n",
    "Esso contiene tutti i Pokémon fino all'ottava generazione (escludendo quelli rilasciati nel più recente *Leggende Pokémon: Arceus*), e comprende tutte le forme alternative e regionali.\n"
   ]
  },
  {
   "cell_type": "markdown",
   "metadata": {},
   "source": [
    "# 4. Esplorazione dei dati"
   ]
  },
  {
   "cell_type": "code",
   "execution_count": 1,
   "metadata": {},
   "outputs": [],
   "source": [
    "import pandas as pd\n",
    "import numpy as np\n",
    "from matplotlib import pyplot as plt\n",
    "\n",
    "pokedex = pd.read_csv(\"pokemon.csv\")"
   ]
  },
  {
   "cell_type": "code",
   "execution_count": 2,
   "metadata": {},
   "outputs": [
    {
     "name": "stdout",
     "output_type": "stream",
     "text": [
      "<class 'pandas.core.frame.DataFrame'>\n",
      "RangeIndex: 1118 entries, 0 to 1117\n",
      "Data columns (total 49 columns):\n",
      " #   Column                         Non-Null Count  Dtype  \n",
      "---  ------                         --------------  -----  \n",
      " 0   name                           1118 non-null   object \n",
      " 1   pokedex_number                 1118 non-null   int64  \n",
      " 2   abilities                      1118 non-null   object \n",
      " 3   typing                         1118 non-null   object \n",
      " 4   hp                             1118 non-null   int64  \n",
      " 5   attack                         1118 non-null   int64  \n",
      " 6   defense                        1118 non-null   int64  \n",
      " 7   special_attack                 1118 non-null   int64  \n",
      " 8   special_defense                1118 non-null   int64  \n",
      " 9   speed                          1118 non-null   int64  \n",
      " 10  height                         1118 non-null   int64  \n",
      " 11  weight                         1118 non-null   int64  \n",
      " 12  genus                          1118 non-null   object \n",
      " 13  gen_introduced                 1118 non-null   int64  \n",
      " 14  female_rate                    1118 non-null   float64\n",
      " 15  genderless                     1118 non-null   bool   \n",
      " 16  baby_pokemon                   1118 non-null   bool   \n",
      " 17  legendary                      1118 non-null   bool   \n",
      " 18  mythical                       1118 non-null   bool   \n",
      " 19  is_default                     1118 non-null   bool   \n",
      " 20  forms_switchable               1118 non-null   bool   \n",
      " 21  base_experience                1118 non-null   int64  \n",
      " 22  capture_rate                   1118 non-null   int64  \n",
      " 23  egg_groups                     1118 non-null   object \n",
      " 24  egg_cycles                     1118 non-null   float64\n",
      " 25  base_happiness                 1118 non-null   int64  \n",
      " 26  can_evolve                     1118 non-null   bool   \n",
      " 27  evolves_from                   550 non-null    object \n",
      " 28  primary_color                  1118 non-null   object \n",
      " 29  shape                          1118 non-null   object \n",
      " 30  number_pokemon_with_typing     1118 non-null   float64\n",
      " 31  normal_attack_effectiveness    1118 non-null   float64\n",
      " 32  fire_attack_effectiveness      1118 non-null   float64\n",
      " 33  water_attack_effectiveness     1118 non-null   float64\n",
      " 34  electric_attack_effectiveness  1118 non-null   float64\n",
      " 35  grass_attack_effectiveness     1118 non-null   float64\n",
      " 36  ice_attack_effectiveness       1118 non-null   float64\n",
      " 37  fighting_attack_effectiveness  1118 non-null   float64\n",
      " 38  poison_attack_effectiveness    1118 non-null   float64\n",
      " 39  ground_attack_effectiveness    1118 non-null   float64\n",
      " 40  fly_attack_effectiveness       1118 non-null   float64\n",
      " 41  psychic_attack_effectiveness   1118 non-null   float64\n",
      " 42  bug_attack_effectiveness       1118 non-null   float64\n",
      " 43  rock_attack_effectiveness      1118 non-null   float64\n",
      " 44  ghost_attack_effectiveness     1118 non-null   float64\n",
      " 45  dragon_attack_effectiveness    1118 non-null   float64\n",
      " 46  dark_attack_effectiveness      1118 non-null   float64\n",
      " 47  steel_attack_effectiveness     1118 non-null   float64\n",
      " 48  fairy_attack_effectiveness     1118 non-null   float64\n",
      "dtypes: bool(7), float64(21), int64(13), object(8)\n",
      "memory usage: 374.6+ KB\n"
     ]
    }
   ],
   "source": [
    "pokedex.info()"
   ]
  },
  {
   "cell_type": "markdown",
   "metadata": {},
   "source": [
    "Il dataset è molto variegato, e le sue colonne (ben 49) comprendono sia valori numerici (di diverso tipo), sia booleani e categoriali.\n",
    "\n",
    "Di seguito, si mostrano primi cinque record per intero."
   ]
  },
  {
   "cell_type": "code",
   "execution_count": 3,
   "metadata": {},
   "outputs": [
    {
     "data": {
      "text/html": [
       "<div>\n",
       "<style scoped>\n",
       "    .dataframe tbody tr th:only-of-type {\n",
       "        vertical-align: middle;\n",
       "    }\n",
       "\n",
       "    .dataframe tbody tr th {\n",
       "        vertical-align: top;\n",
       "    }\n",
       "\n",
       "    .dataframe thead th {\n",
       "        text-align: right;\n",
       "    }\n",
       "</style>\n",
       "<table border=\"1\" class=\"dataframe\">\n",
       "  <thead>\n",
       "    <tr style=\"text-align: right;\">\n",
       "      <th></th>\n",
       "      <th>name</th>\n",
       "      <th>pokedex_number</th>\n",
       "      <th>abilities</th>\n",
       "      <th>typing</th>\n",
       "      <th>hp</th>\n",
       "      <th>attack</th>\n",
       "      <th>defense</th>\n",
       "      <th>special_attack</th>\n",
       "      <th>special_defense</th>\n",
       "      <th>speed</th>\n",
       "      <th>...</th>\n",
       "      <th>ground_attack_effectiveness</th>\n",
       "      <th>fly_attack_effectiveness</th>\n",
       "      <th>psychic_attack_effectiveness</th>\n",
       "      <th>bug_attack_effectiveness</th>\n",
       "      <th>rock_attack_effectiveness</th>\n",
       "      <th>ghost_attack_effectiveness</th>\n",
       "      <th>dragon_attack_effectiveness</th>\n",
       "      <th>dark_attack_effectiveness</th>\n",
       "      <th>steel_attack_effectiveness</th>\n",
       "      <th>fairy_attack_effectiveness</th>\n",
       "    </tr>\n",
       "  </thead>\n",
       "  <tbody>\n",
       "    <tr>\n",
       "      <th>0</th>\n",
       "      <td>Bulbasaur</td>\n",
       "      <td>1</td>\n",
       "      <td>Overgrow~Chlorophyll</td>\n",
       "      <td>Grass~Poison</td>\n",
       "      <td>45</td>\n",
       "      <td>49</td>\n",
       "      <td>49</td>\n",
       "      <td>65</td>\n",
       "      <td>65</td>\n",
       "      <td>45</td>\n",
       "      <td>...</td>\n",
       "      <td>1.0</td>\n",
       "      <td>2.0</td>\n",
       "      <td>2.0</td>\n",
       "      <td>1.0</td>\n",
       "      <td>1.0</td>\n",
       "      <td>1.0</td>\n",
       "      <td>1.0</td>\n",
       "      <td>1.0</td>\n",
       "      <td>1.0</td>\n",
       "      <td>0.5</td>\n",
       "    </tr>\n",
       "    <tr>\n",
       "      <th>1</th>\n",
       "      <td>Ivysaur</td>\n",
       "      <td>2</td>\n",
       "      <td>Overgrow~Chlorophyll</td>\n",
       "      <td>Grass~Poison</td>\n",
       "      <td>60</td>\n",
       "      <td>62</td>\n",
       "      <td>63</td>\n",
       "      <td>80</td>\n",
       "      <td>80</td>\n",
       "      <td>60</td>\n",
       "      <td>...</td>\n",
       "      <td>1.0</td>\n",
       "      <td>2.0</td>\n",
       "      <td>2.0</td>\n",
       "      <td>1.0</td>\n",
       "      <td>1.0</td>\n",
       "      <td>1.0</td>\n",
       "      <td>1.0</td>\n",
       "      <td>1.0</td>\n",
       "      <td>1.0</td>\n",
       "      <td>0.5</td>\n",
       "    </tr>\n",
       "    <tr>\n",
       "      <th>2</th>\n",
       "      <td>Venusaur</td>\n",
       "      <td>3</td>\n",
       "      <td>Overgrow~Chlorophyll</td>\n",
       "      <td>Grass~Poison</td>\n",
       "      <td>80</td>\n",
       "      <td>82</td>\n",
       "      <td>83</td>\n",
       "      <td>100</td>\n",
       "      <td>100</td>\n",
       "      <td>80</td>\n",
       "      <td>...</td>\n",
       "      <td>1.0</td>\n",
       "      <td>2.0</td>\n",
       "      <td>2.0</td>\n",
       "      <td>1.0</td>\n",
       "      <td>1.0</td>\n",
       "      <td>1.0</td>\n",
       "      <td>1.0</td>\n",
       "      <td>1.0</td>\n",
       "      <td>1.0</td>\n",
       "      <td>0.5</td>\n",
       "    </tr>\n",
       "    <tr>\n",
       "      <th>3</th>\n",
       "      <td>Venusaur Gmax</td>\n",
       "      <td>3</td>\n",
       "      <td>Overgrow~Chlorophyll</td>\n",
       "      <td>Grass~Poison</td>\n",
       "      <td>80</td>\n",
       "      <td>82</td>\n",
       "      <td>83</td>\n",
       "      <td>100</td>\n",
       "      <td>100</td>\n",
       "      <td>80</td>\n",
       "      <td>...</td>\n",
       "      <td>1.0</td>\n",
       "      <td>2.0</td>\n",
       "      <td>2.0</td>\n",
       "      <td>1.0</td>\n",
       "      <td>1.0</td>\n",
       "      <td>1.0</td>\n",
       "      <td>1.0</td>\n",
       "      <td>1.0</td>\n",
       "      <td>1.0</td>\n",
       "      <td>0.5</td>\n",
       "    </tr>\n",
       "    <tr>\n",
       "      <th>4</th>\n",
       "      <td>Venusaur Mega</td>\n",
       "      <td>3</td>\n",
       "      <td>Thick Fat</td>\n",
       "      <td>Grass~Poison</td>\n",
       "      <td>80</td>\n",
       "      <td>100</td>\n",
       "      <td>123</td>\n",
       "      <td>122</td>\n",
       "      <td>120</td>\n",
       "      <td>80</td>\n",
       "      <td>...</td>\n",
       "      <td>1.0</td>\n",
       "      <td>2.0</td>\n",
       "      <td>2.0</td>\n",
       "      <td>1.0</td>\n",
       "      <td>1.0</td>\n",
       "      <td>1.0</td>\n",
       "      <td>1.0</td>\n",
       "      <td>1.0</td>\n",
       "      <td>1.0</td>\n",
       "      <td>0.5</td>\n",
       "    </tr>\n",
       "  </tbody>\n",
       "</table>\n",
       "<p>5 rows × 49 columns</p>\n",
       "</div>"
      ],
      "text/plain": [
       "            name  pokedex_number             abilities        typing  hp  \\\n",
       "0      Bulbasaur               1  Overgrow~Chlorophyll  Grass~Poison  45   \n",
       "1        Ivysaur               2  Overgrow~Chlorophyll  Grass~Poison  60   \n",
       "2       Venusaur               3  Overgrow~Chlorophyll  Grass~Poison  80   \n",
       "3  Venusaur Gmax               3  Overgrow~Chlorophyll  Grass~Poison  80   \n",
       "4  Venusaur Mega               3             Thick Fat  Grass~Poison  80   \n",
       "\n",
       "   attack  defense  special_attack  special_defense  speed  ...  \\\n",
       "0      49       49              65               65     45  ...   \n",
       "1      62       63              80               80     60  ...   \n",
       "2      82       83             100              100     80  ...   \n",
       "3      82       83             100              100     80  ...   \n",
       "4     100      123             122              120     80  ...   \n",
       "\n",
       "   ground_attack_effectiveness  fly_attack_effectiveness  \\\n",
       "0                          1.0                       2.0   \n",
       "1                          1.0                       2.0   \n",
       "2                          1.0                       2.0   \n",
       "3                          1.0                       2.0   \n",
       "4                          1.0                       2.0   \n",
       "\n",
       "  psychic_attack_effectiveness  bug_attack_effectiveness  \\\n",
       "0                          2.0                       1.0   \n",
       "1                          2.0                       1.0   \n",
       "2                          2.0                       1.0   \n",
       "3                          2.0                       1.0   \n",
       "4                          2.0                       1.0   \n",
       "\n",
       "   rock_attack_effectiveness  ghost_attack_effectiveness  \\\n",
       "0                        1.0                         1.0   \n",
       "1                        1.0                         1.0   \n",
       "2                        1.0                         1.0   \n",
       "3                        1.0                         1.0   \n",
       "4                        1.0                         1.0   \n",
       "\n",
       "   dragon_attack_effectiveness  dark_attack_effectiveness  \\\n",
       "0                          1.0                        1.0   \n",
       "1                          1.0                        1.0   \n",
       "2                          1.0                        1.0   \n",
       "3                          1.0                        1.0   \n",
       "4                          1.0                        1.0   \n",
       "\n",
       "   steel_attack_effectiveness  fairy_attack_effectiveness  \n",
       "0                         1.0                         0.5  \n",
       "1                         1.0                         0.5  \n",
       "2                         1.0                         0.5  \n",
       "3                         1.0                         0.5  \n",
       "4                         1.0                         0.5  \n",
       "\n",
       "[5 rows x 49 columns]"
      ]
     },
     "execution_count": 3,
     "metadata": {},
     "output_type": "execute_result"
    }
   ],
   "source": [
    "pokedex.head()"
   ]
  },
  {
   "cell_type": "markdown",
   "metadata": {},
   "source": [
    "## 4.1 Manipolazione del dataset\n",
    "Poiché la forma alternativa del singolo Pokémon, quando presente, è specificata direttamente nel suo nome, è possibile rimuovere le due colonne \"is_default\" e \"switchable_form\" in quanto ridondanti.\\\n",
    "È possibile inoltre rimuovere la colonna \"genus\", che indica una breve descrizione del Pokémon (spesso unica per ogni famiglia evolutiva), e che risulta essere poco utile ai fini della nostra analisi. Stessa cosa per quanto riguarda la colonna \"shape\", la quale include informazioni relative alla forma fisica della creatura in questione. \\\n",
    "Avendo a disposizione i tipi, inoltre, è possibile eliminare la colonna \"number_pokemon_with_typing\", la quale per ogni record indica il numero di Pokémon con lo stesso tipo (record preso in esame incluso)."
   ]
  },
  {
   "cell_type": "code",
   "execution_count": 4,
   "metadata": {},
   "outputs": [],
   "source": [
    "pokedex = pokedex.drop([\"abilities\", \"is_default\", \"forms_switchable\", \"genus\", \"number_pokemon_with_typing\", \"shape\"], axis=1)"
   ]
  },
  {
   "cell_type": "markdown",
   "metadata": {},
   "source": [
    "Poiché molti Pokémon vantano la presenza di un doppio tipo, per praticità si sceglie di separare la colonna \"typing\" in due colonne \"typing1\" e \"typing2\". Da notare il fatto che, nell'attuale colonna, le stringhe sono separate dal carattere \"tilde\" (~), caratteristica che potrà essere sfruttata per creare un'opportuna funzione di separazione."
   ]
  },
  {
   "cell_type": "code",
   "execution_count": 5,
   "metadata": {},
   "outputs": [],
   "source": [
    "pokedex[['typing1', 'typing2']] = pokedex.typing.str.split('~', expand=True)\n",
    "typing2 = pokedex.pop('typing2')\n",
    "typing1 = pokedex.pop('typing1')\n",
    "pokedex.insert(3,\"typing1\", typing1)\n",
    "pokedex.insert(4,\"typing2\", typing2)\n",
    "\n",
    "pokedex = pokedex.drop([\"typing\"], axis=1)"
   ]
  },
  {
   "cell_type": "markdown",
   "metadata": {},
   "source": [
    "Alcuni Pokémon hanno un nome proprio composto da due parole separate da un carattere di spazio. Tale carattere, verrà usato in quest'analisi come carattere di separazione dalla forma alternativa degli stessi, per cui il carattere di spaziatura verrà piuttosto sostituito da un un trattino \"-\" quando non utilizzato a tale scopo."
   ]
  },
  {
   "cell_type": "code",
   "execution_count": 6,
   "metadata": {},
   "outputs": [
    {
     "data": {
      "text/html": [
       "<div>\n",
       "<style scoped>\n",
       "    .dataframe tbody tr th:only-of-type {\n",
       "        vertical-align: middle;\n",
       "    }\n",
       "\n",
       "    .dataframe tbody tr th {\n",
       "        vertical-align: top;\n",
       "    }\n",
       "\n",
       "    .dataframe thead th {\n",
       "        text-align: right;\n",
       "    }\n",
       "</style>\n",
       "<table border=\"1\" class=\"dataframe\">\n",
       "  <thead>\n",
       "    <tr style=\"text-align: right;\">\n",
       "      <th></th>\n",
       "      <th>name</th>\n",
       "      <th>pokedex_number</th>\n",
       "      <th>typing1</th>\n",
       "      <th>typing2</th>\n",
       "      <th>hp</th>\n",
       "      <th>attack</th>\n",
       "      <th>defense</th>\n",
       "      <th>special_attack</th>\n",
       "      <th>special_defense</th>\n",
       "      <th>speed</th>\n",
       "      <th>...</th>\n",
       "      <th>ground_attack_effectiveness</th>\n",
       "      <th>fly_attack_effectiveness</th>\n",
       "      <th>psychic_attack_effectiveness</th>\n",
       "      <th>bug_attack_effectiveness</th>\n",
       "      <th>rock_attack_effectiveness</th>\n",
       "      <th>ghost_attack_effectiveness</th>\n",
       "      <th>dragon_attack_effectiveness</th>\n",
       "      <th>dark_attack_effectiveness</th>\n",
       "      <th>steel_attack_effectiveness</th>\n",
       "      <th>fairy_attack_effectiveness</th>\n",
       "    </tr>\n",
       "  </thead>\n",
       "  <tbody>\n",
       "    <tr>\n",
       "      <th>0</th>\n",
       "      <td>Bulbasaur</td>\n",
       "      <td>1</td>\n",
       "      <td>Grass</td>\n",
       "      <td>Poison</td>\n",
       "      <td>45</td>\n",
       "      <td>49</td>\n",
       "      <td>49</td>\n",
       "      <td>65</td>\n",
       "      <td>65</td>\n",
       "      <td>45</td>\n",
       "      <td>...</td>\n",
       "      <td>1.0</td>\n",
       "      <td>2.0</td>\n",
       "      <td>2.0</td>\n",
       "      <td>1.0</td>\n",
       "      <td>1.0</td>\n",
       "      <td>1.0</td>\n",
       "      <td>1.0</td>\n",
       "      <td>1.0</td>\n",
       "      <td>1.0</td>\n",
       "      <td>0.5</td>\n",
       "    </tr>\n",
       "    <tr>\n",
       "      <th>1</th>\n",
       "      <td>Ivysaur</td>\n",
       "      <td>2</td>\n",
       "      <td>Grass</td>\n",
       "      <td>Poison</td>\n",
       "      <td>60</td>\n",
       "      <td>62</td>\n",
       "      <td>63</td>\n",
       "      <td>80</td>\n",
       "      <td>80</td>\n",
       "      <td>60</td>\n",
       "      <td>...</td>\n",
       "      <td>1.0</td>\n",
       "      <td>2.0</td>\n",
       "      <td>2.0</td>\n",
       "      <td>1.0</td>\n",
       "      <td>1.0</td>\n",
       "      <td>1.0</td>\n",
       "      <td>1.0</td>\n",
       "      <td>1.0</td>\n",
       "      <td>1.0</td>\n",
       "      <td>0.5</td>\n",
       "    </tr>\n",
       "    <tr>\n",
       "      <th>2</th>\n",
       "      <td>Venusaur</td>\n",
       "      <td>3</td>\n",
       "      <td>Grass</td>\n",
       "      <td>Poison</td>\n",
       "      <td>80</td>\n",
       "      <td>82</td>\n",
       "      <td>83</td>\n",
       "      <td>100</td>\n",
       "      <td>100</td>\n",
       "      <td>80</td>\n",
       "      <td>...</td>\n",
       "      <td>1.0</td>\n",
       "      <td>2.0</td>\n",
       "      <td>2.0</td>\n",
       "      <td>1.0</td>\n",
       "      <td>1.0</td>\n",
       "      <td>1.0</td>\n",
       "      <td>1.0</td>\n",
       "      <td>1.0</td>\n",
       "      <td>1.0</td>\n",
       "      <td>0.5</td>\n",
       "    </tr>\n",
       "    <tr>\n",
       "      <th>3</th>\n",
       "      <td>Venusaur Gmax</td>\n",
       "      <td>3</td>\n",
       "      <td>Grass</td>\n",
       "      <td>Poison</td>\n",
       "      <td>80</td>\n",
       "      <td>82</td>\n",
       "      <td>83</td>\n",
       "      <td>100</td>\n",
       "      <td>100</td>\n",
       "      <td>80</td>\n",
       "      <td>...</td>\n",
       "      <td>1.0</td>\n",
       "      <td>2.0</td>\n",
       "      <td>2.0</td>\n",
       "      <td>1.0</td>\n",
       "      <td>1.0</td>\n",
       "      <td>1.0</td>\n",
       "      <td>1.0</td>\n",
       "      <td>1.0</td>\n",
       "      <td>1.0</td>\n",
       "      <td>0.5</td>\n",
       "    </tr>\n",
       "    <tr>\n",
       "      <th>4</th>\n",
       "      <td>Venusaur Mega</td>\n",
       "      <td>3</td>\n",
       "      <td>Grass</td>\n",
       "      <td>Poison</td>\n",
       "      <td>80</td>\n",
       "      <td>100</td>\n",
       "      <td>123</td>\n",
       "      <td>122</td>\n",
       "      <td>120</td>\n",
       "      <td>80</td>\n",
       "      <td>...</td>\n",
       "      <td>1.0</td>\n",
       "      <td>2.0</td>\n",
       "      <td>2.0</td>\n",
       "      <td>1.0</td>\n",
       "      <td>1.0</td>\n",
       "      <td>1.0</td>\n",
       "      <td>1.0</td>\n",
       "      <td>1.0</td>\n",
       "      <td>1.0</td>\n",
       "      <td>0.5</td>\n",
       "    </tr>\n",
       "    <tr>\n",
       "      <th>...</th>\n",
       "      <td>...</td>\n",
       "      <td>...</td>\n",
       "      <td>...</td>\n",
       "      <td>...</td>\n",
       "      <td>...</td>\n",
       "      <td>...</td>\n",
       "      <td>...</td>\n",
       "      <td>...</td>\n",
       "      <td>...</td>\n",
       "      <td>...</td>\n",
       "      <td>...</td>\n",
       "      <td>...</td>\n",
       "      <td>...</td>\n",
       "      <td>...</td>\n",
       "      <td>...</td>\n",
       "      <td>...</td>\n",
       "      <td>...</td>\n",
       "      <td>...</td>\n",
       "      <td>...</td>\n",
       "      <td>...</td>\n",
       "      <td>...</td>\n",
       "    </tr>\n",
       "    <tr>\n",
       "      <th>1113</th>\n",
       "      <td>Glastrier</td>\n",
       "      <td>896</td>\n",
       "      <td>Ice</td>\n",
       "      <td>None</td>\n",
       "      <td>100</td>\n",
       "      <td>145</td>\n",
       "      <td>130</td>\n",
       "      <td>65</td>\n",
       "      <td>110</td>\n",
       "      <td>30</td>\n",
       "      <td>...</td>\n",
       "      <td>1.0</td>\n",
       "      <td>1.0</td>\n",
       "      <td>1.0</td>\n",
       "      <td>1.0</td>\n",
       "      <td>2.0</td>\n",
       "      <td>1.0</td>\n",
       "      <td>1.0</td>\n",
       "      <td>1.0</td>\n",
       "      <td>2.0</td>\n",
       "      <td>1.0</td>\n",
       "    </tr>\n",
       "    <tr>\n",
       "      <th>1114</th>\n",
       "      <td>Spectrier</td>\n",
       "      <td>897</td>\n",
       "      <td>Ghost</td>\n",
       "      <td>None</td>\n",
       "      <td>100</td>\n",
       "      <td>65</td>\n",
       "      <td>60</td>\n",
       "      <td>145</td>\n",
       "      <td>80</td>\n",
       "      <td>130</td>\n",
       "      <td>...</td>\n",
       "      <td>1.0</td>\n",
       "      <td>1.0</td>\n",
       "      <td>1.0</td>\n",
       "      <td>0.5</td>\n",
       "      <td>1.0</td>\n",
       "      <td>2.0</td>\n",
       "      <td>1.0</td>\n",
       "      <td>2.0</td>\n",
       "      <td>1.0</td>\n",
       "      <td>1.0</td>\n",
       "    </tr>\n",
       "    <tr>\n",
       "      <th>1115</th>\n",
       "      <td>Calyrex</td>\n",
       "      <td>898</td>\n",
       "      <td>Psychic</td>\n",
       "      <td>Grass</td>\n",
       "      <td>100</td>\n",
       "      <td>80</td>\n",
       "      <td>80</td>\n",
       "      <td>80</td>\n",
       "      <td>80</td>\n",
       "      <td>80</td>\n",
       "      <td>...</td>\n",
       "      <td>0.5</td>\n",
       "      <td>2.0</td>\n",
       "      <td>0.5</td>\n",
       "      <td>4.0</td>\n",
       "      <td>1.0</td>\n",
       "      <td>2.0</td>\n",
       "      <td>1.0</td>\n",
       "      <td>2.0</td>\n",
       "      <td>1.0</td>\n",
       "      <td>1.0</td>\n",
       "    </tr>\n",
       "    <tr>\n",
       "      <th>1116</th>\n",
       "      <td>Calyrex Ice Rider</td>\n",
       "      <td>898</td>\n",
       "      <td>Psychic</td>\n",
       "      <td>Ice</td>\n",
       "      <td>100</td>\n",
       "      <td>165</td>\n",
       "      <td>150</td>\n",
       "      <td>85</td>\n",
       "      <td>130</td>\n",
       "      <td>50</td>\n",
       "      <td>...</td>\n",
       "      <td>1.0</td>\n",
       "      <td>1.0</td>\n",
       "      <td>0.5</td>\n",
       "      <td>2.0</td>\n",
       "      <td>2.0</td>\n",
       "      <td>2.0</td>\n",
       "      <td>1.0</td>\n",
       "      <td>2.0</td>\n",
       "      <td>2.0</td>\n",
       "      <td>1.0</td>\n",
       "    </tr>\n",
       "    <tr>\n",
       "      <th>1117</th>\n",
       "      <td>Calyrex Shadow Rider</td>\n",
       "      <td>898</td>\n",
       "      <td>Psychic</td>\n",
       "      <td>Ghost</td>\n",
       "      <td>100</td>\n",
       "      <td>85</td>\n",
       "      <td>80</td>\n",
       "      <td>165</td>\n",
       "      <td>100</td>\n",
       "      <td>150</td>\n",
       "      <td>...</td>\n",
       "      <td>1.0</td>\n",
       "      <td>1.0</td>\n",
       "      <td>0.5</td>\n",
       "      <td>1.0</td>\n",
       "      <td>1.0</td>\n",
       "      <td>4.0</td>\n",
       "      <td>1.0</td>\n",
       "      <td>4.0</td>\n",
       "      <td>1.0</td>\n",
       "      <td>1.0</td>\n",
       "    </tr>\n",
       "  </tbody>\n",
       "</table>\n",
       "<p>1118 rows × 44 columns</p>\n",
       "</div>"
      ],
      "text/plain": [
       "                      name  pokedex_number  typing1 typing2   hp  attack  \\\n",
       "0                Bulbasaur               1    Grass  Poison   45      49   \n",
       "1                  Ivysaur               2    Grass  Poison   60      62   \n",
       "2                 Venusaur               3    Grass  Poison   80      82   \n",
       "3            Venusaur Gmax               3    Grass  Poison   80      82   \n",
       "4            Venusaur Mega               3    Grass  Poison   80     100   \n",
       "...                    ...             ...      ...     ...  ...     ...   \n",
       "1113             Glastrier             896      Ice    None  100     145   \n",
       "1114             Spectrier             897    Ghost    None  100      65   \n",
       "1115               Calyrex             898  Psychic   Grass  100      80   \n",
       "1116     Calyrex Ice Rider             898  Psychic     Ice  100     165   \n",
       "1117  Calyrex Shadow Rider             898  Psychic   Ghost  100      85   \n",
       "\n",
       "      defense  special_attack  special_defense  speed  ...  \\\n",
       "0          49              65               65     45  ...   \n",
       "1          63              80               80     60  ...   \n",
       "2          83             100              100     80  ...   \n",
       "3          83             100              100     80  ...   \n",
       "4         123             122              120     80  ...   \n",
       "...       ...             ...              ...    ...  ...   \n",
       "1113      130              65              110     30  ...   \n",
       "1114       60             145               80    130  ...   \n",
       "1115       80              80               80     80  ...   \n",
       "1116      150              85              130     50  ...   \n",
       "1117       80             165              100    150  ...   \n",
       "\n",
       "      ground_attack_effectiveness  fly_attack_effectiveness  \\\n",
       "0                             1.0                       2.0   \n",
       "1                             1.0                       2.0   \n",
       "2                             1.0                       2.0   \n",
       "3                             1.0                       2.0   \n",
       "4                             1.0                       2.0   \n",
       "...                           ...                       ...   \n",
       "1113                          1.0                       1.0   \n",
       "1114                          1.0                       1.0   \n",
       "1115                          0.5                       2.0   \n",
       "1116                          1.0                       1.0   \n",
       "1117                          1.0                       1.0   \n",
       "\n",
       "      psychic_attack_effectiveness  bug_attack_effectiveness  \\\n",
       "0                              2.0                       1.0   \n",
       "1                              2.0                       1.0   \n",
       "2                              2.0                       1.0   \n",
       "3                              2.0                       1.0   \n",
       "4                              2.0                       1.0   \n",
       "...                            ...                       ...   \n",
       "1113                           1.0                       1.0   \n",
       "1114                           1.0                       0.5   \n",
       "1115                           0.5                       4.0   \n",
       "1116                           0.5                       2.0   \n",
       "1117                           0.5                       1.0   \n",
       "\n",
       "      rock_attack_effectiveness  ghost_attack_effectiveness  \\\n",
       "0                           1.0                         1.0   \n",
       "1                           1.0                         1.0   \n",
       "2                           1.0                         1.0   \n",
       "3                           1.0                         1.0   \n",
       "4                           1.0                         1.0   \n",
       "...                         ...                         ...   \n",
       "1113                        2.0                         1.0   \n",
       "1114                        1.0                         2.0   \n",
       "1115                        1.0                         2.0   \n",
       "1116                        2.0                         2.0   \n",
       "1117                        1.0                         4.0   \n",
       "\n",
       "      dragon_attack_effectiveness  dark_attack_effectiveness  \\\n",
       "0                             1.0                        1.0   \n",
       "1                             1.0                        1.0   \n",
       "2                             1.0                        1.0   \n",
       "3                             1.0                        1.0   \n",
       "4                             1.0                        1.0   \n",
       "...                           ...                        ...   \n",
       "1113                          1.0                        1.0   \n",
       "1114                          1.0                        2.0   \n",
       "1115                          1.0                        2.0   \n",
       "1116                          1.0                        2.0   \n",
       "1117                          1.0                        4.0   \n",
       "\n",
       "      steel_attack_effectiveness  fairy_attack_effectiveness  \n",
       "0                            1.0                         0.5  \n",
       "1                            1.0                         0.5  \n",
       "2                            1.0                         0.5  \n",
       "3                            1.0                         0.5  \n",
       "4                            1.0                         0.5  \n",
       "...                          ...                         ...  \n",
       "1113                         2.0                         1.0  \n",
       "1114                         1.0                         1.0  \n",
       "1115                         1.0                         1.0  \n",
       "1116                         2.0                         1.0  \n",
       "1117                         1.0                         1.0  \n",
       "\n",
       "[1118 rows x 44 columns]"
      ]
     },
     "execution_count": 6,
     "metadata": {},
     "output_type": "execute_result"
    }
   ],
   "source": [
    "pokedex[\"name\"] = pokedex[\"name\"].apply(lambda x: x.replace(' ', '-') if \"Tapu\" in x else x)\n",
    "pokedex[\"name\"] = pokedex[\"name\"].apply(lambda x: x.replace(' ', '-') if \"Oh\" in x else x)\n",
    "pokedex[\"name\"] = pokedex[\"name\"].apply(lambda x: x.replace(' ', '-') if \"Nidoran\" in x else x)\n",
    "pokedex[\"name\"] = pokedex[\"name\"].apply(lambda x: x.replace(' ', '-') if x == \"Mr Mime\" else x)\n",
    "pokedex[\"name\"] = pokedex[\"name\"].apply(lambda x: x.replace(' ', '-') if x == \"Mime Jr\" else x)\n",
    "pokedex[\"name\"] = pokedex[\"name\"].apply(lambda x: x.replace(' ', '-') if x == \"Mr Rime\" else x)\n",
    "pokedex[\"name\"] = pokedex[\"name\"].apply(lambda x: x.replace(' ', '-') if x == \"Type Null\" else x)\n",
    "\n",
    "pokedex"
   ]
  },
  {
   "cell_type": "markdown",
   "metadata": {},
   "source": [
    "Infine, stando alle specifiche del dataset, le altezze dei Pokémon sono definite in decimetri sulla colonna \"height\", ed i loro pesi in ettogrammi sulla colonna \"weight\": potrebbe risultare più conveniente convertire queste grandezze rispettivamente in metri e chilogrammi (come visualizzate nei vari videogiochi, in pratica)."
   ]
  },
  {
   "cell_type": "code",
   "execution_count": 7,
   "metadata": {},
   "outputs": [],
   "source": [
    "pokedex['height'] = pokedex['height']/10\n",
    "pokedex['weight'] = pokedex['weight']/10"
   ]
  },
  {
   "cell_type": "markdown",
   "metadata": {},
   "source": [
    "## 4.2 Distribuzione dei dati\n",
    "Di seguito si visualizzano le informazioni del dataset e i suoi primi cinque record, dopo la sua manipolazione."
   ]
  },
  {
   "cell_type": "code",
   "execution_count": 8,
   "metadata": {},
   "outputs": [
    {
     "name": "stdout",
     "output_type": "stream",
     "text": [
      "<class 'pandas.core.frame.DataFrame'>\n",
      "RangeIndex: 1118 entries, 0 to 1117\n",
      "Data columns (total 44 columns):\n",
      " #   Column                         Non-Null Count  Dtype  \n",
      "---  ------                         --------------  -----  \n",
      " 0   name                           1118 non-null   object \n",
      " 1   pokedex_number                 1118 non-null   int64  \n",
      " 2   typing1                        1118 non-null   object \n",
      " 3   typing2                        597 non-null    object \n",
      " 4   hp                             1118 non-null   int64  \n",
      " 5   attack                         1118 non-null   int64  \n",
      " 6   defense                        1118 non-null   int64  \n",
      " 7   special_attack                 1118 non-null   int64  \n",
      " 8   special_defense                1118 non-null   int64  \n",
      " 9   speed                          1118 non-null   int64  \n",
      " 10  height                         1118 non-null   float64\n",
      " 11  weight                         1118 non-null   float64\n",
      " 12  gen_introduced                 1118 non-null   int64  \n",
      " 13  female_rate                    1118 non-null   float64\n",
      " 14  genderless                     1118 non-null   bool   \n",
      " 15  baby_pokemon                   1118 non-null   bool   \n",
      " 16  legendary                      1118 non-null   bool   \n",
      " 17  mythical                       1118 non-null   bool   \n",
      " 18  base_experience                1118 non-null   int64  \n",
      " 19  capture_rate                   1118 non-null   int64  \n",
      " 20  egg_groups                     1118 non-null   object \n",
      " 21  egg_cycles                     1118 non-null   float64\n",
      " 22  base_happiness                 1118 non-null   int64  \n",
      " 23  can_evolve                     1118 non-null   bool   \n",
      " 24  evolves_from                   550 non-null    object \n",
      " 25  primary_color                  1118 non-null   object \n",
      " 26  normal_attack_effectiveness    1118 non-null   float64\n",
      " 27  fire_attack_effectiveness      1118 non-null   float64\n",
      " 28  water_attack_effectiveness     1118 non-null   float64\n",
      " 29  electric_attack_effectiveness  1118 non-null   float64\n",
      " 30  grass_attack_effectiveness     1118 non-null   float64\n",
      " 31  ice_attack_effectiveness       1118 non-null   float64\n",
      " 32  fighting_attack_effectiveness  1118 non-null   float64\n",
      " 33  poison_attack_effectiveness    1118 non-null   float64\n",
      " 34  ground_attack_effectiveness    1118 non-null   float64\n",
      " 35  fly_attack_effectiveness       1118 non-null   float64\n",
      " 36  psychic_attack_effectiveness   1118 non-null   float64\n",
      " 37  bug_attack_effectiveness       1118 non-null   float64\n",
      " 38  rock_attack_effectiveness      1118 non-null   float64\n",
      " 39  ghost_attack_effectiveness     1118 non-null   float64\n",
      " 40  dragon_attack_effectiveness    1118 non-null   float64\n",
      " 41  dark_attack_effectiveness      1118 non-null   float64\n",
      " 42  steel_attack_effectiveness     1118 non-null   float64\n",
      " 43  fairy_attack_effectiveness     1118 non-null   float64\n",
      "dtypes: bool(5), float64(22), int64(11), object(6)\n",
      "memory usage: 346.2+ KB\n"
     ]
    }
   ],
   "source": [
    "pokedex.info()"
   ]
  },
  {
   "cell_type": "code",
   "execution_count": 9,
   "metadata": {},
   "outputs": [
    {
     "data": {
      "text/html": [
       "<div>\n",
       "<style scoped>\n",
       "    .dataframe tbody tr th:only-of-type {\n",
       "        vertical-align: middle;\n",
       "    }\n",
       "\n",
       "    .dataframe tbody tr th {\n",
       "        vertical-align: top;\n",
       "    }\n",
       "\n",
       "    .dataframe thead th {\n",
       "        text-align: right;\n",
       "    }\n",
       "</style>\n",
       "<table border=\"1\" class=\"dataframe\">\n",
       "  <thead>\n",
       "    <tr style=\"text-align: right;\">\n",
       "      <th></th>\n",
       "      <th>name</th>\n",
       "      <th>pokedex_number</th>\n",
       "      <th>typing1</th>\n",
       "      <th>typing2</th>\n",
       "      <th>hp</th>\n",
       "      <th>attack</th>\n",
       "      <th>defense</th>\n",
       "      <th>special_attack</th>\n",
       "      <th>special_defense</th>\n",
       "      <th>speed</th>\n",
       "      <th>...</th>\n",
       "      <th>ground_attack_effectiveness</th>\n",
       "      <th>fly_attack_effectiveness</th>\n",
       "      <th>psychic_attack_effectiveness</th>\n",
       "      <th>bug_attack_effectiveness</th>\n",
       "      <th>rock_attack_effectiveness</th>\n",
       "      <th>ghost_attack_effectiveness</th>\n",
       "      <th>dragon_attack_effectiveness</th>\n",
       "      <th>dark_attack_effectiveness</th>\n",
       "      <th>steel_attack_effectiveness</th>\n",
       "      <th>fairy_attack_effectiveness</th>\n",
       "    </tr>\n",
       "  </thead>\n",
       "  <tbody>\n",
       "    <tr>\n",
       "      <th>0</th>\n",
       "      <td>Bulbasaur</td>\n",
       "      <td>1</td>\n",
       "      <td>Grass</td>\n",
       "      <td>Poison</td>\n",
       "      <td>45</td>\n",
       "      <td>49</td>\n",
       "      <td>49</td>\n",
       "      <td>65</td>\n",
       "      <td>65</td>\n",
       "      <td>45</td>\n",
       "      <td>...</td>\n",
       "      <td>1.0</td>\n",
       "      <td>2.0</td>\n",
       "      <td>2.0</td>\n",
       "      <td>1.0</td>\n",
       "      <td>1.0</td>\n",
       "      <td>1.0</td>\n",
       "      <td>1.0</td>\n",
       "      <td>1.0</td>\n",
       "      <td>1.0</td>\n",
       "      <td>0.5</td>\n",
       "    </tr>\n",
       "    <tr>\n",
       "      <th>1</th>\n",
       "      <td>Ivysaur</td>\n",
       "      <td>2</td>\n",
       "      <td>Grass</td>\n",
       "      <td>Poison</td>\n",
       "      <td>60</td>\n",
       "      <td>62</td>\n",
       "      <td>63</td>\n",
       "      <td>80</td>\n",
       "      <td>80</td>\n",
       "      <td>60</td>\n",
       "      <td>...</td>\n",
       "      <td>1.0</td>\n",
       "      <td>2.0</td>\n",
       "      <td>2.0</td>\n",
       "      <td>1.0</td>\n",
       "      <td>1.0</td>\n",
       "      <td>1.0</td>\n",
       "      <td>1.0</td>\n",
       "      <td>1.0</td>\n",
       "      <td>1.0</td>\n",
       "      <td>0.5</td>\n",
       "    </tr>\n",
       "    <tr>\n",
       "      <th>2</th>\n",
       "      <td>Venusaur</td>\n",
       "      <td>3</td>\n",
       "      <td>Grass</td>\n",
       "      <td>Poison</td>\n",
       "      <td>80</td>\n",
       "      <td>82</td>\n",
       "      <td>83</td>\n",
       "      <td>100</td>\n",
       "      <td>100</td>\n",
       "      <td>80</td>\n",
       "      <td>...</td>\n",
       "      <td>1.0</td>\n",
       "      <td>2.0</td>\n",
       "      <td>2.0</td>\n",
       "      <td>1.0</td>\n",
       "      <td>1.0</td>\n",
       "      <td>1.0</td>\n",
       "      <td>1.0</td>\n",
       "      <td>1.0</td>\n",
       "      <td>1.0</td>\n",
       "      <td>0.5</td>\n",
       "    </tr>\n",
       "    <tr>\n",
       "      <th>3</th>\n",
       "      <td>Venusaur Gmax</td>\n",
       "      <td>3</td>\n",
       "      <td>Grass</td>\n",
       "      <td>Poison</td>\n",
       "      <td>80</td>\n",
       "      <td>82</td>\n",
       "      <td>83</td>\n",
       "      <td>100</td>\n",
       "      <td>100</td>\n",
       "      <td>80</td>\n",
       "      <td>...</td>\n",
       "      <td>1.0</td>\n",
       "      <td>2.0</td>\n",
       "      <td>2.0</td>\n",
       "      <td>1.0</td>\n",
       "      <td>1.0</td>\n",
       "      <td>1.0</td>\n",
       "      <td>1.0</td>\n",
       "      <td>1.0</td>\n",
       "      <td>1.0</td>\n",
       "      <td>0.5</td>\n",
       "    </tr>\n",
       "    <tr>\n",
       "      <th>4</th>\n",
       "      <td>Venusaur Mega</td>\n",
       "      <td>3</td>\n",
       "      <td>Grass</td>\n",
       "      <td>Poison</td>\n",
       "      <td>80</td>\n",
       "      <td>100</td>\n",
       "      <td>123</td>\n",
       "      <td>122</td>\n",
       "      <td>120</td>\n",
       "      <td>80</td>\n",
       "      <td>...</td>\n",
       "      <td>1.0</td>\n",
       "      <td>2.0</td>\n",
       "      <td>2.0</td>\n",
       "      <td>1.0</td>\n",
       "      <td>1.0</td>\n",
       "      <td>1.0</td>\n",
       "      <td>1.0</td>\n",
       "      <td>1.0</td>\n",
       "      <td>1.0</td>\n",
       "      <td>0.5</td>\n",
       "    </tr>\n",
       "  </tbody>\n",
       "</table>\n",
       "<p>5 rows × 44 columns</p>\n",
       "</div>"
      ],
      "text/plain": [
       "            name  pokedex_number typing1 typing2  hp  attack  defense  \\\n",
       "0      Bulbasaur               1   Grass  Poison  45      49       49   \n",
       "1        Ivysaur               2   Grass  Poison  60      62       63   \n",
       "2       Venusaur               3   Grass  Poison  80      82       83   \n",
       "3  Venusaur Gmax               3   Grass  Poison  80      82       83   \n",
       "4  Venusaur Mega               3   Grass  Poison  80     100      123   \n",
       "\n",
       "   special_attack  special_defense  speed  ...  ground_attack_effectiveness  \\\n",
       "0              65               65     45  ...                          1.0   \n",
       "1              80               80     60  ...                          1.0   \n",
       "2             100              100     80  ...                          1.0   \n",
       "3             100              100     80  ...                          1.0   \n",
       "4             122              120     80  ...                          1.0   \n",
       "\n",
       "   fly_attack_effectiveness  psychic_attack_effectiveness  \\\n",
       "0                       2.0                           2.0   \n",
       "1                       2.0                           2.0   \n",
       "2                       2.0                           2.0   \n",
       "3                       2.0                           2.0   \n",
       "4                       2.0                           2.0   \n",
       "\n",
       "   bug_attack_effectiveness  rock_attack_effectiveness  \\\n",
       "0                       1.0                        1.0   \n",
       "1                       1.0                        1.0   \n",
       "2                       1.0                        1.0   \n",
       "3                       1.0                        1.0   \n",
       "4                       1.0                        1.0   \n",
       "\n",
       "   ghost_attack_effectiveness  dragon_attack_effectiveness  \\\n",
       "0                         1.0                          1.0   \n",
       "1                         1.0                          1.0   \n",
       "2                         1.0                          1.0   \n",
       "3                         1.0                          1.0   \n",
       "4                         1.0                          1.0   \n",
       "\n",
       "   dark_attack_effectiveness  steel_attack_effectiveness  \\\n",
       "0                        1.0                         1.0   \n",
       "1                        1.0                         1.0   \n",
       "2                        1.0                         1.0   \n",
       "3                        1.0                         1.0   \n",
       "4                        1.0                         1.0   \n",
       "\n",
       "   fairy_attack_effectiveness  \n",
       "0                         0.5  \n",
       "1                         0.5  \n",
       "2                         0.5  \n",
       "3                         0.5  \n",
       "4                         0.5  \n",
       "\n",
       "[5 rows x 44 columns]"
      ]
     },
     "execution_count": 9,
     "metadata": {},
     "output_type": "execute_result"
    }
   ],
   "source": [
    "pokedex.head()"
   ]
  },
  {
   "cell_type": "markdown",
   "metadata": {},
   "source": [
    "Esso conta 1118 record. Si notino i conteggi relativi alle colonne \"typing2\" e \"evolves_from\": sebbene siano di meno, non deve considerarsi un errore, bensì come un aspetto da non trascurare; infatti non tutti i Pokémon presentano un doppio tipo, e non tutti i Pokémon sono in grado di evolversi. "
   ]
  },
  {
   "cell_type": "code",
   "execution_count": 10,
   "metadata": {},
   "outputs": [
    {
     "data": {
      "text/plain": [
       "Water       162\n",
       "Flying      135\n",
       "Normal      130\n",
       "Grass       124\n",
       "Psychic     123\n",
       "Bug          96\n",
       "Electric     89\n",
       "Rock         89\n",
       "Fire         88\n",
       "Poison       85\n",
       "Ground       82\n",
       "Fighting     78\n",
       "Dragon       78\n",
       "Steel        77\n",
       "Dark         76\n",
       "Ghost        73\n",
       "Fairy        72\n",
       "Ice          58\n",
       "dtype: int64"
      ]
     },
     "execution_count": 10,
     "metadata": {},
     "output_type": "execute_result"
    }
   ],
   "source": [
    "dex_type = pokedex[\"typing1\"].value_counts() + pokedex[\"typing2\"].value_counts()\n",
    "dex_type = dex_type.sort_values(ascending = False)\n",
    "dex_type"
   ]
  },
  {
   "cell_type": "code",
   "execution_count": 11,
   "metadata": {},
   "outputs": [
    {
     "data": {
      "text/plain": [
       "<AxesSubplot:>"
      ]
     },
     "execution_count": 11,
     "metadata": {},
     "output_type": "execute_result"
    },
    {
     "data": {
      "image/png": "[encoded data removed]",
      "text/plain": [
       "<Figure size 1800x576 with 1 Axes>"
      ]
     },
     "metadata": {
      "needs_background": "light"
     },
     "output_type": "display_data"
    }
   ],
   "source": [
    "dex_type.plot.bar(figsize=(25,8))"
   ]
  },
  {
   "cell_type": "markdown",
   "metadata": {},
   "source": [
    "Visto che alcuni Pokémon, cambiando forma, cambiano anche uno dei due tipi, nel conteggio vengono considerate anche le eventuali forme alternative: quello più comune, è il tipo Acqua.\n",
    "Potrebbe essere interessante scoprire quante forme alternative sono state introdotte nel corso delle varie generazioni, sfruttando il blank char separatore."
   ]
  },
  {
   "cell_type": "code",
   "execution_count": 12,
   "metadata": {
    "scrolled": true
   },
   "outputs": [
    {
     "data": {
      "text/plain": [
       "gen_introduced\n",
       "1    71\n",
       "2     8\n",
       "3    31\n",
       "4    18\n",
       "5    23\n",
       "6    20\n",
       "7    44\n",
       "8    35\n",
       "Name: name, dtype: int64"
      ]
     },
     "execution_count": 12,
     "metadata": {},
     "output_type": "execute_result"
    }
   ],
   "source": [
    "alternative_forms_by_gen = pokedex.groupby('gen_introduced')['name'].apply(lambda x: x[x.str.contains(' ')].count())\n",
    "alternative_forms_by_gen"
   ]
  },
  {
   "cell_type": "markdown",
   "metadata": {},
   "source": [
    "È possibile notare come siano state proposte, nel corso degli anni, più forme alternative per i Pokémon di prima generazione, tra Mega Evoluzioni, Gigamax e forme regionali. Ciò è dovuto ad un forte attaccamento del brand nei confronti delle sue origini, e ad una continua nostalgia di quei tempi da parte dei suoi fan."
   ]
  },
  {
   "cell_type": "code",
   "execution_count": 13,
   "metadata": {},
   "outputs": [
    {
     "data": {
      "image/png": "[encoded data removed]",
      "text/plain": [
       "<Figure size 720x432 with 1 Axes>"
      ]
     },
     "metadata": {
      "needs_background": "light"
     },
     "output_type": "display_data"
    }
   ],
   "source": [
    "plt.figure(figsize=(10,6))\n",
    "alternative_forms_by_gen.plot(title=\"Alternative Forms\", kind=\"bar\")\n",
    "plt.show()"
   ]
  },
  {
   "cell_type": "markdown",
   "metadata": {},
   "source": [
    "Entrando più nello specifico, osserviamo in quali generazioni le due \"gimmick\" Mega Evoluzione e Gigamax sono più ricorrenti. Per inciso, queste due tipologie di forme alternative sono state introdotte rispettivamente in sesta e ottava generazione, e poi fornite anche a creature facenti parte di set generazionali passati."
   ]
  },
  {
   "cell_type": "code",
   "execution_count": 14,
   "metadata": {},
   "outputs": [
    {
     "data": {
      "image/png": "[encoded data removed]",
      "text/plain": [
       "<Figure size 720x432 with 1 Axes>"
      ]
     },
     "metadata": {
      "needs_background": "light"
     },
     "output_type": "display_data"
    }
   ],
   "source": [
    "plt.figure(figsize=(10,6))\n",
    "megas_by_gen = pokedex.groupby('gen_introduced')['name'].apply(lambda x: x[x.str.contains('Mega')].count())\n",
    "megas_by_gen.plot(title=\"MegaEvolutions\", kind=\"bar\")\n",
    "plt.show()"
   ]
  },
  {
   "cell_type": "markdown",
   "metadata": {},
   "source": [
    "È possibile notare come il set generazionale più ricco di Mega Evoluzioni sia il terzo, seguito immediatamente dal primo. Curiosità da parte di chi scrive e conosce molto bene il brand: se la causa del numero di Mega Evoluzioni per i Pokémon di prima generazione è da ritrovarsi principalmente nella nostalgia, come già spiegato in precenza, il primato della terza lo si deve al fatto che nel periodo della sesta generazione (più precisamente alla fine del 2014) è stata rilasciata la coppia di videogiochi *Pokémon: Rubino Omega* e *Pokémon: Zaffiro Alfa* per Nintendo 3DS, versioni aggiornate degli originali *Pokémon: Versione Rubino* e *Pokémon: Versione Zaffiro* usciti undici anni prima per il GameBoy Advance. The Pokémon Company ha quindi approfittato dell'occasione per aggiungere nuovi contenuti sfruttando una gimmick recentemente introdotta."
   ]
  },
  {
   "cell_type": "code",
   "execution_count": 15,
   "metadata": {},
   "outputs": [
    {
     "data": {
      "image/png": "[encoded data removed]",
      "text/plain": [
       "<Figure size 720x432 with 1 Axes>"
      ]
     },
     "metadata": {
      "needs_background": "light"
     },
     "output_type": "display_data"
    }
   ],
   "source": [
    "plt.figure(figsize=(10,6))\n",
    "gmax_by_gen = pokedex.groupby('gen_introduced')['name'].apply(lambda x: x[x.str.contains('Gmax')].count())\n",
    "gmax_by_gen.plot(title=\"Gigamax Forms\", kind=\"bar\")\n",
    "plt.show()"
   ]
  },
  {
   "cell_type": "markdown",
   "metadata": {},
   "source": [
    "Numeri interessanti anche relativamente alla Gigamax. La gimmick \"Gigamax\" è una versione particolare della \"Dynamax\", introdotta nei relativamente recenti *Pokémon: Spada* e *Pokémon: Scudo*: se quest'ultima ingigantisce i Pokémon senza variarne l'aspetto, la prima, qui presa invece in esame, dona inoltre nuove sembianze al Pokémon che ne fa utilizzo. Il set generazionale più fornito di forme Gigamax è proprio l'ottavo, il quale non a caso è il medesimo che ha introdotto questa nuova meccanica di gioco; esso è seguito immediatamente dal primo, surclassando tutti gli altri set generazionali."
   ]
  },
  {
   "cell_type": "code",
   "execution_count": 16,
   "metadata": {},
   "outputs": [
    {
     "data": {
      "image/png": "[encoded data removed]",
      "text/plain": [
       "<Figure size 1440x432 with 2 Axes>"
      ]
     },
     "metadata": {
      "needs_background": "light"
     },
     "output_type": "display_data"
    }
   ],
   "source": [
    "pokemon_by_gen = pokedex[\"gen_introduced\"].value_counts() - alternative_forms_by_gen\n",
    "\n",
    "plt.figure(figsize=(20,6))\n",
    "plt.subplot(1,2,1)\n",
    "pokemon_by_gen.sort_values(ascending = False).plot(title=\"Pokedex\", kind=\"bar\")\n",
    "plt.subplot(1,2,2)\n",
    "pokemon_by_gen.plot.pie(autopct='%1.0f%%', pctdistance=0.7, labeldistance=1.1)\n",
    "plt.show()"
   ]
  },
  {
   "cell_type": "markdown",
   "metadata": {},
   "source": [
    "Osserviamo i numeri di Pokémon introdotti nel corso delle varie generazioni, escludendo le forme alternative (e quindi eventuali \"doppioni\" omonimi): è possibile notare che il numero maggiore fu introdotto in prima generazione, agli albori del franchise; questo numero è seguito da quello relativo ai Pokémon introdotta in quinta e in terza generazione. Numeri che non stupiscono, considerando che la la terza e la quinta generazione soprattutto sono state quelle della \"rivoluzione\" del brand, il quale cercava di modernizzarsi e stare al passo con i tempi (soprattutto in termini di stile e design) il più possibile."
   ]
  },
  {
   "cell_type": "markdown",
   "metadata": {},
   "source": [
    "Analizziamo adesso le PDF delle colonne relative alle statistiche dei Pokémon."
   ]
  },
  {
   "cell_type": "code",
   "execution_count": 17,
   "metadata": {},
   "outputs": [
    {
     "data": {
      "text/plain": [
       "<Figure size 720x432 with 0 Axes>"
      ]
     },
     "metadata": {},
     "output_type": "display_data"
    },
    {
     "data": {
      "image/png": "[encoded data removed]",
      "text/plain": [
       "<Figure size 432x288 with 1 Axes>"
      ]
     },
     "metadata": {
      "needs_background": "light"
     },
     "output_type": "display_data"
    }
   ],
   "source": [
    "plt.figure(figsize=(10,6))\n",
    "pokedex[['hp', 'attack', 'defense', 'special_attack', 'special_defense', 'speed']].plot.density().grid()\n",
    "plt.show()"
   ]
  },
  {
   "cell_type": "markdown",
   "metadata": {},
   "source": [
    "Le statistiche sono distribuite secondo un andamento gaussiano. \n",
    "\n",
    "È possibile notare un picco sulla colonna \"hp\", dovuto principalmente a pochi Pokémon con tanti punti vita (come Chansey, Blissey - il quale ha il maggior numero di HP in assoluto -, Audino e qualche leggendario)."
   ]
  },
  {
   "cell_type": "markdown",
   "metadata": {},
   "source": [
    "Potrebbe essere interessante osservare anche le PDF relative ad altri tratti caratterizzanti dei Pokémon, che non sono legati alle statistiche utilizzate in battaglia."
   ]
  },
  {
   "cell_type": "markdown",
   "metadata": {},
   "source": [
    "Ogni Pokémon, infatti, in base alla sua rarità e al suo stadio evolutivo, è caraterizzato anche da un tasso di cattura. Sin dalle prime versioni dei videogiochi, questo valore era codificato in una word da 8 bit, per cui è stato mantenuto questo criterio sino alle versioni più recenti, facendolo variare in un range [0,255]. Di seguito si analizza la sua PDF."
   ]
  },
  {
   "cell_type": "markdown",
   "metadata": {},
   "source": [
    "Tale valore viene essere utilizzato come \"scala\" nel momento in cui si cerca di catturare un Pokémon. Difatti, ogni volta che, ingaggiata una lotta con un Pokémon selvatico, lo si cerca di catturare, il videogioco calcolerà se esso è stato calcolato o meno secondo la seguente formula mostrata per completezza esplicativa.\n",
    "\n",
    "$a=\\frac{(3 \\times HP_{max} - 2 \\times HP_{actual}) \\times rate \\times bonus_{ball}}{3 \\times HP_{max}} \\times status$\n",
    "\n",
    "dove:\n",
    "- $rate$ è il capture_rate qui normalizzato;\n",
    "- $bonus_{ball}$ è un valore dipendente dalla Pokéball utilizzata per la cattura (valore di scala che varia da $\\times 1$ a $\\times 8$, a seconda della ball utilizzata);\n",
    "- $status$ è un malus inflitto al Pokémon avversario: paralisi, scottatura, addormentamento, avvelenamento, congelamento (valore di scala che può essere $\\times 1,\\times 1.5, \\times 2$ a seconda del tipo di status). \n",
    "\n",
    "In realtà, nel corso degli anni, sono state aggiunte altre variabili, ma all'atto pratico, la formula di base è quella descritta."
   ]
  },
  {
   "cell_type": "code",
   "execution_count": 18,
   "metadata": {},
   "outputs": [
    {
     "data": {
      "image/png": "[encoded data removed]",
      "text/plain": [
       "<Figure size 720x432 with 1 Axes>"
      ]
     },
     "metadata": {
      "needs_background": "light"
     },
     "output_type": "display_data"
    }
   ],
   "source": [
    "plt.figure(figsize=(10,6))\n",
    "pokedex['capture_rate'].plot.density().grid()\n",
    "plt.show()"
   ]
  },
  {
   "cell_type": "markdown",
   "metadata": {},
   "source": [
    "Si noti come la distribuzione del catch_rate abbia una forma di \"mixture\" di tre di Gaussiane, per cui questo attributo si distribuisce secondo un andamento multimodale, secondo il quale possiamo suddividere i Pokémon, a seconda del loro \"catch_rate\", in tre diverse categorie:\n",
    "- esemplari molto comuni nella fauna, e quindi più inclini ad essere catturati;\n",
    "- Pokémon più rari, e quindi più difficili da catturare;\n",
    "- creature uniche nella fauna, e quindi col più basso tasso di cattura.\n",
    "\n",
    "Questa suddivisione potrebbe essere utile, nei prossimi paragrafi, per poter eseguire una classificazione in base a determinate caratteristiche."
   ]
  },
  {
   "cell_type": "markdown",
   "metadata": {},
   "source": [
    "Verifichiamo quali sono le probabilità di incontrare un Pokémon di un certo sesso."
   ]
  },
  {
   "cell_type": "code",
   "execution_count": 19,
   "metadata": {
    "scrolled": false
   },
   "outputs": [
    {
     "data": {
      "image/png": "[encoded data removed]",
      "text/plain": [
       "<Figure size 1080x720 with 1 Axes>"
      ]
     },
     "metadata": {},
     "output_type": "display_data"
    }
   ],
   "source": [
    "genderless = len(pokedex[pokedex['genderless']==True]['genderless'])                               # numero di asessuati\n",
    "only_female = len(pokedex[pokedex['female_rate']==1]['female_rate'])                               # numero di pkmn 100% femmina\n",
    "only_male = pokedex[pokedex['female_rate']==0]\n",
    "only_male = len(only_male[only_male['genderless']!=True]['female_rate'])                           # numero di pkmn 100% maschio\n",
    "\n",
    "gender = len(pokedex[pokedex['genderless']==False]['female_rate']) - only_female - only_male       # numero di pknm che possono essere maschio o femmina\n",
    "\n",
    "counts = [genderless, only_female, only_male, gender]\n",
    "labels = ['Genderless', 'Only Female', 'Only Male', 'Male/Female']\n",
    "\n",
    "plt.figure(figsize=(15,10))\n",
    "plt.pie(counts, autopct='%1.1f%%', pctdistance=0.7, labeldistance=1.1, labels=labels)\n",
    "plt.show()"
   ]
  },
  {
   "cell_type": "markdown",
   "metadata": {},
   "source": [
    "È possibile constatare che la stragrande maggioranza di specie di Pokémon può essere trovata nella fauna sia con sesso maschile che con sesso femminile. Questa statistica è succeduta immediatamente da esemplari asessuati, i quali tipicamente sono Pokémon leggendari o Pokémon comuni ispirati a oggetti. Infine, troviamo esemplari di solo sesso femminile e di solo sesso maschile, di cui quest'ultimi sono presenti in minoranza."
   ]
  },
  {
   "cell_type": "markdown",
   "metadata": {},
   "source": [
    "Osserviamo adesso le *pdf* di altezza e peso."
   ]
  },
  {
   "cell_type": "code",
   "execution_count": 20,
   "metadata": {},
   "outputs": [
    {
     "data": {
      "image/png": "[encoded data removed]",
      "text/plain": [
       "<Figure size 1440x360 with 2 Axes>"
      ]
     },
     "metadata": {
      "needs_background": "light"
     },
     "output_type": "display_data"
    }
   ],
   "source": [
    "plt.figure(figsize=(20,5))\n",
    "plt.subplot(1,2,1)\n",
    "pokedex['height'].plot.density()\n",
    "plt.title('Height')\n",
    "plt.xlim([-50,50])\n",
    "plt.xticks(np.arange(-50, 50+1, 10))\n",
    "plt.grid()\n",
    "\n",
    "plt.subplot(1,2,2)\n",
    "plt.title('Weight')\n",
    "pokedex['weight'].plot.density()\n",
    "plt.grid()\n",
    "\n",
    "plt.show()"
   ]
  },
  {
   "cell_type": "markdown",
   "metadata": {},
   "source": [
    "È possibile notare che entrambi gli attributi sono distribuiti secondo una mixture di due Gaussiane. Ciò indica che sono presenti due mode, infatti:\n",
    "- per quanto concerne l'altezza, molti esemplari misurano tra i pochi centimetri e fino a 8 metri circa, ma sono comunque presenti alcune specie tra i 20 e i 30 metri;\n",
    "- il peso varia fino a 250 kg, ma alcuni di essi (per lo più leggendari) pesano attorno alla tonnellata."
   ]
  },
  {
   "cell_type": "markdown",
   "metadata": {},
   "source": [
    "Altre colonne verranno discusse in seguito, nelle successive fasi dell'analisi."
   ]
  }
 ],
 "metadata": {
  "kernelspec": {
   "display_name": "Python 3 (ipykernel)",
   "language": "python",
   "name": "python3"
  },
  "language_info": {
   "codemirror_mode": {
    "name": "ipython",
    "version": 3
   },
   "file_extension": ".py",
   "mimetype": "text/x-python",
   "name": "python",
   "nbconvert_exporter": "python",
   "pygments_lexer": "ipython3",
   "version": "3.10.2"
  }
 },
 "nbformat": 4,
 "nbformat_minor": 2
}
